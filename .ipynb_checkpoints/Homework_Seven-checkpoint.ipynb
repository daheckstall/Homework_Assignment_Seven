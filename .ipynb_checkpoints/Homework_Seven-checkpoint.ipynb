{
 "cells": [
  {
   "cell_type": "code",
   "execution_count": 1,
   "metadata": {},
   "outputs": [],
   "source": [
    "import tweepy\n",
    "import time\n",
    "import json\n",
    "import random\n",
    "import requests as req\n",
    "import datetime\n",
    "from config import consumer_key, consumer_secret, access_token, access_token_secret"
   ]
  },
  {
   "cell_type": "code",
   "execution_count": 2,
   "metadata": {},
   "outputs": [],
   "source": [
    "from vaderSentiment.vaderSentiment import SentimentIntensityAnalyzer\n",
    "analyzer = SentimentIntensityAnalyzer()"
   ]
  },
  {
   "cell_type": "code",
   "execution_count": 3,
   "metadata": {},
   "outputs": [],
   "source": [
    "consumer_key = consumer_key\n",
    "consumer_secret = consumer_secret\n",
    "access_token = access_token\n",
    "access_token_secret = access_token_secret"
   ]
  },
  {
   "cell_type": "code",
   "execution_count": 4,
   "metadata": {},
   "outputs": [],
   "source": [
    "auth = tweepy.OAuthHandler(consumer_key, consumer_secret)\n",
    "auth.set_access_token(access_token, access_token_secret)\n",
    "api = tweepy.API(auth, parser=tweepy.parsers.JSONParser())"
   ]
  },
  {
   "cell_type": "code",
   "execution_count": 5,
   "metadata": {},
   "outputs": [],
   "source": [
    "#List for new sources\n",
    "news_source = [\"@foxnews\", \"@cnn\", \"@bbc\", \"@cbsnews\",\"@nytimes\"]"
   ]
  },
  {
   "cell_type": "code",
   "execution_count": 6,
   "metadata": {},
   "outputs": [],
   "source": [
    "#create lists to hold data\n",
    "tweet_source = []\n",
    "tweet_text = []\n",
    "tweet_date = []\n",
    "tweet_vader_score = []\n",
    "tweet_neg_score = []\n",
    "tweet_pos_score = []\n",
    "tweet_neu_score = []"
   ]
  },
  {
   "cell_type": "code",
   "execution_count": 11,
   "metadata": {},
   "outputs": [
    {
     "ename": "SyntaxError",
     "evalue": "invalid syntax (<ipython-input-11-d12bf394d2cc>, line 15)",
     "output_type": "error",
     "traceback": [
      "\u001b[1;36m  File \u001b[1;32m\"<ipython-input-11-d12bf394d2cc>\"\u001b[1;36m, line \u001b[1;32m15\u001b[0m\n\u001b[1;33m    tweet_vader_score.append(analyzer.polarity_score[\"compound\"])\u001b[0m\n\u001b[1;37m                    ^\u001b[0m\n\u001b[1;31mSyntaxError\u001b[0m\u001b[1;31m:\u001b[0m invalid syntax\n"
     ]
    }
   ],
   "source": [
    "#begin looping thru news sources and requests tweets\n",
    "for news_station in news_source:\n",
    "    #loop thru each page to get 500 total tweets\n",
    "    for x in range (5):\n",
    "        tweets = api.user_timeline(news_station, page=x)\n",
    "        for tweet in tweets:\n",
    "            #parse tweet data into empty lists\n",
    "            tweet_source.append(tweet[\"user\"],[\"name\"]\n",
    "            #tweet_text.append(tweet[\"text\"])\n",
    "            #tweet_date.append(tweet[\"created_at\"])\n",
    "            \n",
    "            #run sentiment analysis\n",
    "            #tweet_vader_analysis = analyzer.polarity_score(tweet[\"text\"])\n",
    "            #parse vader analysis\n",
    "            tweet_vader_score.append(analyzer.polarity_score[\"compound\"])\n",
    "            tweet_neg_score.append(analyzer.polarity_score[\"neg\"])\n",
    "            tweet_pos_score.append(analyzer.polarity_score[\"pos\"])\n",
    "            tweet_neu_score.append(analyzer.polarity_score[\"neu\"])\n"
   ]
  },
  {
   "cell_type": "code",
   "execution_count": null,
   "metadata": {},
   "outputs": [],
   "source": [
    "#create dataframe\n",
    "tweet_df = pd.DataFrame({\n",
    "    \"tweet_source\": tweet_source,\n",
    "    \"tweet_text\": tweet_text,\n",
    "    \"tweet_date\": tweet_date,\n",
    "    \"tweet_vader_score\": tweet_vader_score,\n",
    "    \"tweet_pos_score\": tweet_pos_score,\n",
    "    \"tweet_neg_score\": tweet_neg_score,\n",
    "    \"tweet_neu_score\": tweet_neu_score\n",
    "\n",
    "})  "
   ]
  },
  {
   "cell_type": "code",
   "execution_count": null,
   "metadata": {},
   "outputs": [],
   "source": [
    "#convert tweet_df[\"date\"] to a datetime object\n",
    "tweet_df[\"tweet_date\"] = pd.to_dateime(tweet_df[\"tweet_date\"])\n"
   ]
  },
  {
   "cell_type": "code",
   "execution_count": null,
   "metadata": {},
   "outputs": [],
   "source": [
    "#sort values by date\n",
    "tweet_df.sort_values(\"tweet_date\", inplace=True)"
   ]
  },
  {
   "cell_type": "code",
   "execution_count": null,
   "metadata": {},
   "outputs": [],
   "source": [
    "#plot using matplotlib\n",
    "plt.scatter(X,Y)\n",
    "plt.scatter()\n",
    "plt.scatter()\n",
    "plt.scatter()\n",
    "plt.scatter()\n",
    "plt.scatter()\n",
    "plt.scatter()\n",
    "plt.title()\n",
    "\n",
    "plt.savefig()\n",
    "\n",
    "plt.show()\n"
   ]
  },
  {
   "cell_type": "code",
   "execution_count": null,
   "metadata": {},
   "outputs": [],
   "source": [
    "#bar chart\n",
    "tweet_polarity_df = tweet_df.groupby([\"tweet_source\"]).mean()[\"tweet_vader_score\"]\n",
    "\n",
    "\n",
    "plt.bar(0, tweet_polarity_df[\"\"])\n",
    "plt.bar(1, tweet_polarity_df[\"\"])\n",
    "plt.bar(2, tweet_polarity_df[\"\"])\n",
    "plt.bar(3, tweet_polarity_df[\"\"])\n",
    "plt.bar(4, tweet_polarity_df[\"\"])\n",
    "plt.bar(5, tweet_polarity_df[\"\"])\n"
   ]
  },
  {
   "cell_type": "code",
   "execution_count": null,
   "metadata": {},
   "outputs": [],
   "source": []
  }
 ],
 "metadata": {
  "kernelspec": {
   "display_name": "Python 3",
   "language": "python",
   "name": "python3"
  },
  "language_info": {
   "codemirror_mode": {
    "name": "ipython",
    "version": 3
   },
   "file_extension": ".py",
   "mimetype": "text/x-python",
   "name": "python",
   "nbconvert_exporter": "python",
   "pygments_lexer": "ipython3",
   "version": "3.6.4"
  }
 },
 "nbformat": 4,
 "nbformat_minor": 2
}
